{
 "cells": [
  {
   "cell_type": "code",
   "execution_count": 1,
   "metadata": {},
   "outputs": [],
   "source": [
    "import pandas as pd\n",
    "from path import Path\n",
    "from sklearn.preprocessing import StandardScaler, MinMaxScaler\n",
    "from sklearn.decomposition import PCA\n",
    "from sklearn.manifold import TSNE\n",
    "from sklearn.cluster import KMeans\n",
    "import matplotlib.pyplot as plt"
   ]
  },
  {
   "cell_type": "markdown",
   "metadata": {},
   "source": [
    "### Data Preparation"
   ]
  },
  {
   "cell_type": "code",
   "execution_count": 2,
   "metadata": {},
   "outputs": [],
   "source": [
    "file = Path('crypto_data.csv')\n",
    "#Cryptocurrency-Clusters_Unsupervised-ML/crypto_data.csv"
   ]
  },
  {
   "cell_type": "code",
   "execution_count": 3,
   "metadata": {},
   "outputs": [
    {
     "data": {
      "text/html": [
       "<div>\n",
       "<style scoped>\n",
       "    .dataframe tbody tr th:only-of-type {\n",
       "        vertical-align: middle;\n",
       "    }\n",
       "\n",
       "    .dataframe tbody tr th {\n",
       "        vertical-align: top;\n",
       "    }\n",
       "\n",
       "    .dataframe thead th {\n",
       "        text-align: right;\n",
       "    }\n",
       "</style>\n",
       "<table border=\"1\" class=\"dataframe\">\n",
       "  <thead>\n",
       "    <tr style=\"text-align: right;\">\n",
       "      <th></th>\n",
       "      <th>CoinName</th>\n",
       "      <th>Algorithm</th>\n",
       "      <th>IsTrading</th>\n",
       "      <th>ProofType</th>\n",
       "      <th>TotalCoinsMined</th>\n",
       "      <th>TotalCoinSupply</th>\n",
       "    </tr>\n",
       "  </thead>\n",
       "  <tbody>\n",
       "    <tr>\n",
       "      <th>42</th>\n",
       "      <td>42 Coin</td>\n",
       "      <td>Scrypt</td>\n",
       "      <td>True</td>\n",
       "      <td>PoW/PoS</td>\n",
       "      <td>4.199995e+01</td>\n",
       "      <td>42</td>\n",
       "    </tr>\n",
       "    <tr>\n",
       "      <th>365</th>\n",
       "      <td>365Coin</td>\n",
       "      <td>X11</td>\n",
       "      <td>True</td>\n",
       "      <td>PoW/PoS</td>\n",
       "      <td>NaN</td>\n",
       "      <td>2300000000</td>\n",
       "    </tr>\n",
       "    <tr>\n",
       "      <th>404</th>\n",
       "      <td>404Coin</td>\n",
       "      <td>Scrypt</td>\n",
       "      <td>True</td>\n",
       "      <td>PoW/PoS</td>\n",
       "      <td>1.055185e+09</td>\n",
       "      <td>532000000</td>\n",
       "    </tr>\n",
       "    <tr>\n",
       "      <th>611</th>\n",
       "      <td>SixEleven</td>\n",
       "      <td>SHA-256</td>\n",
       "      <td>True</td>\n",
       "      <td>PoW</td>\n",
       "      <td>NaN</td>\n",
       "      <td>611000</td>\n",
       "    </tr>\n",
       "    <tr>\n",
       "      <th>808</th>\n",
       "      <td>808</td>\n",
       "      <td>SHA-256</td>\n",
       "      <td>True</td>\n",
       "      <td>PoW/PoS</td>\n",
       "      <td>0.000000e+00</td>\n",
       "      <td>0</td>\n",
       "    </tr>\n",
       "    <tr>\n",
       "      <th>1337</th>\n",
       "      <td>EliteCoin</td>\n",
       "      <td>X13</td>\n",
       "      <td>True</td>\n",
       "      <td>PoW/PoS</td>\n",
       "      <td>2.927942e+10</td>\n",
       "      <td>314159265359</td>\n",
       "    </tr>\n",
       "    <tr>\n",
       "      <th>2015</th>\n",
       "      <td>2015 coin</td>\n",
       "      <td>X11</td>\n",
       "      <td>True</td>\n",
       "      <td>PoW/PoS</td>\n",
       "      <td>NaN</td>\n",
       "      <td>0</td>\n",
       "    </tr>\n",
       "    <tr>\n",
       "      <th>BTC</th>\n",
       "      <td>Bitcoin</td>\n",
       "      <td>SHA-256</td>\n",
       "      <td>True</td>\n",
       "      <td>PoW</td>\n",
       "      <td>1.792718e+07</td>\n",
       "      <td>21000000</td>\n",
       "    </tr>\n",
       "    <tr>\n",
       "      <th>ETH</th>\n",
       "      <td>Ethereum</td>\n",
       "      <td>Ethash</td>\n",
       "      <td>True</td>\n",
       "      <td>PoW</td>\n",
       "      <td>1.076842e+08</td>\n",
       "      <td>0</td>\n",
       "    </tr>\n",
       "    <tr>\n",
       "      <th>LTC</th>\n",
       "      <td>Litecoin</td>\n",
       "      <td>Scrypt</td>\n",
       "      <td>True</td>\n",
       "      <td>PoW</td>\n",
       "      <td>6.303924e+07</td>\n",
       "      <td>84000000</td>\n",
       "    </tr>\n",
       "  </tbody>\n",
       "</table>\n",
       "</div>"
      ],
      "text/plain": [
       "       CoinName Algorithm  IsTrading ProofType  TotalCoinsMined  \\\n",
       "42      42 Coin    Scrypt       True   PoW/PoS     4.199995e+01   \n",
       "365     365Coin       X11       True   PoW/PoS              NaN   \n",
       "404     404Coin    Scrypt       True   PoW/PoS     1.055185e+09   \n",
       "611   SixEleven   SHA-256       True       PoW              NaN   \n",
       "808         808   SHA-256       True   PoW/PoS     0.000000e+00   \n",
       "1337  EliteCoin       X13       True   PoW/PoS     2.927942e+10   \n",
       "2015  2015 coin       X11       True   PoW/PoS              NaN   \n",
       "BTC     Bitcoin   SHA-256       True       PoW     1.792718e+07   \n",
       "ETH    Ethereum    Ethash       True       PoW     1.076842e+08   \n",
       "LTC    Litecoin    Scrypt       True       PoW     6.303924e+07   \n",
       "\n",
       "     TotalCoinSupply  \n",
       "42                42  \n",
       "365       2300000000  \n",
       "404        532000000  \n",
       "611           611000  \n",
       "808                0  \n",
       "1337    314159265359  \n",
       "2015               0  \n",
       "BTC         21000000  \n",
       "ETH                0  \n",
       "LTC         84000000  "
      ]
     },
     "execution_count": 3,
     "metadata": {},
     "output_type": "execute_result"
    }
   ],
   "source": [
    "# set first line as index-- index_col=0\n",
    "df = pd.read_csv(file, index_col=0)\n",
    "df.head(10)"
   ]
  },
  {
   "cell_type": "code",
   "execution_count": 4,
   "metadata": {},
   "outputs": [
    {
     "data": {
      "text/plain": [
       "array(['Scrypt', 'X11', 'SHA-256', 'X13', 'Ethash', 'CryptoNight-V7',\n",
       "       'Equihash', 'SHA-512', 'Multiple', 'X15', 'NIST5', 'Quark',\n",
       "       'Groestl', 'PoS', 'NeoScrypt', 'SHA3', 'HybridScryptHash256',\n",
       "       'Scrypt-n', 'PHI1612', 'Lyra2REv2', 'CryptoNight', 'Shabal256',\n",
       "       'Counterparty', 'Blake', 'Momentum', 'Stanford Folding', 'QuBit',\n",
       "       'XG Hash', 'M7 POW', 'Curve25519', 'Lyra2RE', 'QUAIT', 'vDPOS',\n",
       "       'Blake2b', 'BLAKE256', '1GB AES Pattern Search', 'Dagger',\n",
       "       'CryptoNight-Lite', 'X11GOST', 'ScryptOG', 'SHA-256D', 'POS 3.0',\n",
       "       'Progressive-n', 'DPoS', 'Lyra2Z', 'X14', 'Time Travel', 'Argon2',\n",
       "       'Keccak', 'Blake2S', 'Dagger-Hashimoto', '536', 'Argon2d',\n",
       "       'Cloverhash', 'Skein', 'SkunkHash v2 Raptor',\n",
       "       'VeChainThor Authority', 'Ouroboros', 'POS 2.0', 'SkunkHash',\n",
       "       'C11', 'Proof-of-BibleHash', 'SHA-256 + Hive',\n",
       "       'Proof-of-Authority', 'XEVAN', 'VBFT', 'YescryptR16', 'IMesh',\n",
       "       'X16S', 'Green Protocol', 'Semux BFT consensus', 'X16R', 'Tribus',\n",
       "       'CryptoNight Heavy', 'Jump Consistent Hash', 'Wild Keccak',\n",
       "       'HMQ1725', 'Zhash', 'Cryptonight-GPU', 'ECC 256K1',\n",
       "       'CryptoNight Heavy X', 'Rainforest', 'M00N', 'Exosis',\n",
       "       'CryptoNight-lite', 'QuarkTX', 'Leased POS', 'Equihash1927',\n",
       "       'T-Inside', 'SHA3-256', 'Equihash+Scrypt', 'PHI2', 'Avesta hash',\n",
       "       'Slatechain', 'TRC10'], dtype=object)"
      ]
     },
     "execution_count": 4,
     "metadata": {},
     "output_type": "execute_result"
    }
   ],
   "source": [
    "# List all algorithms in use- 1\n",
    "df['Algorithm'].unique()"
   ]
  },
  {
   "cell_type": "code",
   "execution_count": 5,
   "metadata": {},
   "outputs": [
    {
     "name": "stdout",
     "output_type": "stream",
     "text": [
      "{'Blake', 'HybridScryptHash256', 'Lyra2RE', 'Time Travel', 'Equihash1927', '536', 'DPoS', 'Shabal256', 'Jump Consistent Hash', 'Scrypt', 'Groestl', 'Equihash+Scrypt', 'Stanford Folding', 'X14', 'SHA-512', 'Momentum', 'Semux BFT consensus', 'HMQ1725', 'PHI1612', 'Exosis', 'TRC10', 'Curve25519', 'Argon2', 'Multiple', 'Proof-of-Authority', 'Lyra2REv2', 'PoS', 'Blake2S', 'X13', 'M7 POW', 'X15', 'Cloverhash', 'Green Protocol', 'T-Inside', 'M00N', 'Zhash', 'CryptoNight Heavy', 'Cryptonight-GPU', 'VBFT', 'Rainforest', 'Avesta hash', 'Scrypt-n', 'Slatechain', 'Argon2d', 'IMesh', '1GB AES Pattern Search', 'CryptoNight Heavy X', 'X11GOST', 'Lyra2Z', 'QuarkTX', 'X11', 'POS 3.0', 'POS 2.0', 'Quark', 'ScryptOG', 'YescryptR16', 'Tribus', 'Proof-of-BibleHash', 'Dagger', 'X16S', 'QUAIT', 'CryptoNight', 'Blake2b', 'SHA-256 + Hive', 'vDPOS', 'XG Hash', 'SHA3-256', 'SkunkHash', 'NeoScrypt', 'Progressive-n', 'QuBit', 'XEVAN', 'Ethash', 'Dagger-Hashimoto', 'Keccak', 'Equihash', 'SHA3', 'SkunkHash v2 Raptor', 'CryptoNight-lite', 'X16R', 'Leased POS', 'ECC 256K1', 'SHA-256', 'CryptoNight-Lite', 'Skein', 'Counterparty', 'SHA-256D', 'BLAKE256', 'PHI2', 'VeChainThor Authority', 'Wild Keccak', 'NIST5', 'CryptoNight-V7', 'Ouroboros', 'C11'}\n"
     ]
    }
   ],
   "source": [
    "# List all algorithms in use- 2\n",
    "algorithms = set(df.Algorithm.values)\n",
    "print(algorithms)"
   ]
  },
  {
   "cell_type": "code",
   "execution_count": 6,
   "metadata": {},
   "outputs": [
    {
     "data": {
      "text/plain": [
       "True     1144\n",
       "False     108\n",
       "Name: IsTrading, dtype: int64"
      ]
     },
     "execution_count": 6,
     "metadata": {},
     "output_type": "execute_result"
    }
   ],
   "source": [
    "# print the counts of stocks being currently traded vs. not being currently traded \n",
    "df['IsTrading'].value_counts()"
   ]
  },
  {
   "cell_type": "code",
   "execution_count": 7,
   "metadata": {},
   "outputs": [
    {
     "data": {
      "text/plain": [
       "True    1144\n",
       "Name: IsTrading, dtype: int64"
      ]
     },
     "execution_count": 7,
     "metadata": {},
     "output_type": "execute_result"
    }
   ],
   "source": [
    "# Select only cryptocurrencies that are being traded\n",
    "df = df.loc[df['IsTrading'] == True]\n",
    "df['IsTrading'].value_counts()"
   ]
  },
  {
   "cell_type": "code",
   "execution_count": 8,
   "metadata": {},
   "outputs": [
    {
     "name": "stdout",
     "output_type": "stream",
     "text": [
      "['42 Coin' '365Coin' '404Coin' ... 'Beldex' 'Horizen' 'BitcoinPlus']\n"
     ]
    }
   ],
   "source": [
    "currency= df.CoinName.values\n",
    "print(currency)\n",
    "#df['CoinName'].unique()"
   ]
  },
  {
   "cell_type": "code",
   "execution_count": 9,
   "metadata": {},
   "outputs": [
    {
     "data": {
      "text/html": [
       "<div>\n",
       "<style scoped>\n",
       "    .dataframe tbody tr th:only-of-type {\n",
       "        vertical-align: middle;\n",
       "    }\n",
       "\n",
       "    .dataframe tbody tr th {\n",
       "        vertical-align: top;\n",
       "    }\n",
       "\n",
       "    .dataframe thead th {\n",
       "        text-align: right;\n",
       "    }\n",
       "</style>\n",
       "<table border=\"1\" class=\"dataframe\">\n",
       "  <thead>\n",
       "    <tr style=\"text-align: right;\">\n",
       "      <th></th>\n",
       "      <th>CoinName</th>\n",
       "      <th>Algorithm</th>\n",
       "      <th>ProofType</th>\n",
       "      <th>TotalCoinsMined</th>\n",
       "      <th>TotalCoinSupply</th>\n",
       "    </tr>\n",
       "  </thead>\n",
       "  <tbody>\n",
       "    <tr>\n",
       "      <th>42</th>\n",
       "      <td>42 Coin</td>\n",
       "      <td>Scrypt</td>\n",
       "      <td>PoW/PoS</td>\n",
       "      <td>4.199995e+01</td>\n",
       "      <td>42</td>\n",
       "    </tr>\n",
       "    <tr>\n",
       "      <th>365</th>\n",
       "      <td>365Coin</td>\n",
       "      <td>X11</td>\n",
       "      <td>PoW/PoS</td>\n",
       "      <td>NaN</td>\n",
       "      <td>2300000000</td>\n",
       "    </tr>\n",
       "    <tr>\n",
       "      <th>404</th>\n",
       "      <td>404Coin</td>\n",
       "      <td>Scrypt</td>\n",
       "      <td>PoW/PoS</td>\n",
       "      <td>1.055185e+09</td>\n",
       "      <td>532000000</td>\n",
       "    </tr>\n",
       "    <tr>\n",
       "      <th>611</th>\n",
       "      <td>SixEleven</td>\n",
       "      <td>SHA-256</td>\n",
       "      <td>PoW</td>\n",
       "      <td>NaN</td>\n",
       "      <td>611000</td>\n",
       "    </tr>\n",
       "    <tr>\n",
       "      <th>808</th>\n",
       "      <td>808</td>\n",
       "      <td>SHA-256</td>\n",
       "      <td>PoW/PoS</td>\n",
       "      <td>0.000000e+00</td>\n",
       "      <td>0</td>\n",
       "    </tr>\n",
       "    <tr>\n",
       "      <th>...</th>\n",
       "      <td>...</td>\n",
       "      <td>...</td>\n",
       "      <td>...</td>\n",
       "      <td>...</td>\n",
       "      <td>...</td>\n",
       "    </tr>\n",
       "    <tr>\n",
       "      <th>SERO</th>\n",
       "      <td>Super Zero</td>\n",
       "      <td>Ethash</td>\n",
       "      <td>PoW</td>\n",
       "      <td>NaN</td>\n",
       "      <td>1000000000</td>\n",
       "    </tr>\n",
       "    <tr>\n",
       "      <th>UOS</th>\n",
       "      <td>UOS</td>\n",
       "      <td>SHA-256</td>\n",
       "      <td>DPoI</td>\n",
       "      <td>NaN</td>\n",
       "      <td>1000000000</td>\n",
       "    </tr>\n",
       "    <tr>\n",
       "      <th>BDX</th>\n",
       "      <td>Beldex</td>\n",
       "      <td>CryptoNight</td>\n",
       "      <td>PoW</td>\n",
       "      <td>9.802226e+08</td>\n",
       "      <td>1400222610</td>\n",
       "    </tr>\n",
       "    <tr>\n",
       "      <th>ZEN</th>\n",
       "      <td>Horizen</td>\n",
       "      <td>Equihash</td>\n",
       "      <td>PoW</td>\n",
       "      <td>7.296538e+06</td>\n",
       "      <td>21000000</td>\n",
       "    </tr>\n",
       "    <tr>\n",
       "      <th>XBC</th>\n",
       "      <td>BitcoinPlus</td>\n",
       "      <td>Scrypt</td>\n",
       "      <td>PoS</td>\n",
       "      <td>1.283270e+05</td>\n",
       "      <td>1000000</td>\n",
       "    </tr>\n",
       "  </tbody>\n",
       "</table>\n",
       "<p>1144 rows × 5 columns</p>\n",
       "</div>"
      ],
      "text/plain": [
       "         CoinName    Algorithm ProofType  TotalCoinsMined TotalCoinSupply\n",
       "42        42 Coin       Scrypt   PoW/PoS     4.199995e+01              42\n",
       "365       365Coin          X11   PoW/PoS              NaN      2300000000\n",
       "404       404Coin       Scrypt   PoW/PoS     1.055185e+09       532000000\n",
       "611     SixEleven      SHA-256       PoW              NaN          611000\n",
       "808           808      SHA-256   PoW/PoS     0.000000e+00               0\n",
       "...           ...          ...       ...              ...             ...\n",
       "SERO   Super Zero       Ethash       PoW              NaN      1000000000\n",
       "UOS           UOS      SHA-256      DPoI              NaN      1000000000\n",
       "BDX        Beldex  CryptoNight       PoW     9.802226e+08      1400222610\n",
       "ZEN       Horizen     Equihash       PoW     7.296538e+06        21000000\n",
       "XBC   BitcoinPlus       Scrypt       PoS     1.283270e+05         1000000\n",
       "\n",
       "[1144 rows x 5 columns]"
      ]
     },
     "execution_count": 9,
     "metadata": {},
     "output_type": "execute_result"
    }
   ],
   "source": [
    "# Delete the IsTrading column; it is no longer necessary\n",
    "df=df.drop('IsTrading',axis = 1)\n",
    "df"
   ]
  },
  {
   "cell_type": "code",
   "execution_count": 10,
   "metadata": {},
   "outputs": [
    {
     "data": {
      "text/html": [
       "<div>\n",
       "<style scoped>\n",
       "    .dataframe tbody tr th:only-of-type {\n",
       "        vertical-align: middle;\n",
       "    }\n",
       "\n",
       "    .dataframe tbody tr th {\n",
       "        vertical-align: top;\n",
       "    }\n",
       "\n",
       "    .dataframe thead th {\n",
       "        text-align: right;\n",
       "    }\n",
       "</style>\n",
       "<table border=\"1\" class=\"dataframe\">\n",
       "  <thead>\n",
       "    <tr style=\"text-align: right;\">\n",
       "      <th></th>\n",
       "      <th>CoinName</th>\n",
       "      <th>Algorithm</th>\n",
       "      <th>ProofType</th>\n",
       "      <th>TotalCoinsMined</th>\n",
       "      <th>TotalCoinSupply</th>\n",
       "    </tr>\n",
       "  </thead>\n",
       "  <tbody>\n",
       "    <tr>\n",
       "      <th>42</th>\n",
       "      <td>42 Coin</td>\n",
       "      <td>Scrypt</td>\n",
       "      <td>PoW/PoS</td>\n",
       "      <td>4.199995e+01</td>\n",
       "      <td>42</td>\n",
       "    </tr>\n",
       "    <tr>\n",
       "      <th>404</th>\n",
       "      <td>404Coin</td>\n",
       "      <td>Scrypt</td>\n",
       "      <td>PoW/PoS</td>\n",
       "      <td>1.055185e+09</td>\n",
       "      <td>532000000</td>\n",
       "    </tr>\n",
       "    <tr>\n",
       "      <th>808</th>\n",
       "      <td>808</td>\n",
       "      <td>SHA-256</td>\n",
       "      <td>PoW/PoS</td>\n",
       "      <td>0.000000e+00</td>\n",
       "      <td>0</td>\n",
       "    </tr>\n",
       "    <tr>\n",
       "      <th>1337</th>\n",
       "      <td>EliteCoin</td>\n",
       "      <td>X13</td>\n",
       "      <td>PoW/PoS</td>\n",
       "      <td>2.927942e+10</td>\n",
       "      <td>314159265359</td>\n",
       "    </tr>\n",
       "    <tr>\n",
       "      <th>BTC</th>\n",
       "      <td>Bitcoin</td>\n",
       "      <td>SHA-256</td>\n",
       "      <td>PoW</td>\n",
       "      <td>1.792718e+07</td>\n",
       "      <td>21000000</td>\n",
       "    </tr>\n",
       "    <tr>\n",
       "      <th>...</th>\n",
       "      <td>...</td>\n",
       "      <td>...</td>\n",
       "      <td>...</td>\n",
       "      <td>...</td>\n",
       "      <td>...</td>\n",
       "    </tr>\n",
       "    <tr>\n",
       "      <th>ZEPH</th>\n",
       "      <td>ZEPHYR</td>\n",
       "      <td>SHA-256</td>\n",
       "      <td>DPoS</td>\n",
       "      <td>2.000000e+09</td>\n",
       "      <td>2000000000</td>\n",
       "    </tr>\n",
       "    <tr>\n",
       "      <th>GAP</th>\n",
       "      <td>Gapcoin</td>\n",
       "      <td>Scrypt</td>\n",
       "      <td>PoW/PoS</td>\n",
       "      <td>1.493105e+07</td>\n",
       "      <td>250000000</td>\n",
       "    </tr>\n",
       "    <tr>\n",
       "      <th>BDX</th>\n",
       "      <td>Beldex</td>\n",
       "      <td>CryptoNight</td>\n",
       "      <td>PoW</td>\n",
       "      <td>9.802226e+08</td>\n",
       "      <td>1400222610</td>\n",
       "    </tr>\n",
       "    <tr>\n",
       "      <th>ZEN</th>\n",
       "      <td>Horizen</td>\n",
       "      <td>Equihash</td>\n",
       "      <td>PoW</td>\n",
       "      <td>7.296538e+06</td>\n",
       "      <td>21000000</td>\n",
       "    </tr>\n",
       "    <tr>\n",
       "      <th>XBC</th>\n",
       "      <td>BitcoinPlus</td>\n",
       "      <td>Scrypt</td>\n",
       "      <td>PoS</td>\n",
       "      <td>1.283270e+05</td>\n",
       "      <td>1000000</td>\n",
       "    </tr>\n",
       "  </tbody>\n",
       "</table>\n",
       "<p>685 rows × 5 columns</p>\n",
       "</div>"
      ],
      "text/plain": [
       "         CoinName    Algorithm ProofType  TotalCoinsMined TotalCoinSupply\n",
       "42        42 Coin       Scrypt   PoW/PoS     4.199995e+01              42\n",
       "404       404Coin       Scrypt   PoW/PoS     1.055185e+09       532000000\n",
       "808           808      SHA-256   PoW/PoS     0.000000e+00               0\n",
       "1337    EliteCoin          X13   PoW/PoS     2.927942e+10    314159265359\n",
       "BTC       Bitcoin      SHA-256       PoW     1.792718e+07        21000000\n",
       "...           ...          ...       ...              ...             ...\n",
       "ZEPH       ZEPHYR      SHA-256      DPoS     2.000000e+09      2000000000\n",
       "GAP       Gapcoin       Scrypt   PoW/PoS     1.493105e+07       250000000\n",
       "BDX        Beldex  CryptoNight       PoW     9.802226e+08      1400222610\n",
       "ZEN       Horizen     Equihash       PoW     7.296538e+06        21000000\n",
       "XBC   BitcoinPlus       Scrypt       PoS     1.283270e+05         1000000\n",
       "\n",
       "[685 rows x 5 columns]"
      ]
     },
     "execution_count": 10,
     "metadata": {},
     "output_type": "execute_result"
    }
   ],
   "source": [
    "# Delete all rows with null values\n",
    "df1 = df.dropna()\n",
    "df1"
   ]
  },
  {
   "cell_type": "code",
   "execution_count": 11,
   "metadata": {},
   "outputs": [
    {
     "data": {
      "text/plain": [
       "(685, 5)"
      ]
     },
     "execution_count": 11,
     "metadata": {},
     "output_type": "execute_result"
    }
   ],
   "source": [
    "# get instances and variables of df- shape\n",
    "df1 = df.dropna(axis=0, how='any')\n",
    "df1.shape"
   ]
  },
  {
   "cell_type": "code",
   "execution_count": 12,
   "metadata": {},
   "outputs": [
    {
     "data": {
      "text/plain": [
       "FIII   -5.917978e+09\n",
       "LBTC    0.000000e+00\n",
       "RIPO    0.000000e+00\n",
       "BASH    0.000000e+00\n",
       "CSH     0.000000e+00\n",
       "            ...     \n",
       "QWC     9.955311e+10\n",
       "NYC     1.430067e+11\n",
       "GCN     1.630551e+11\n",
       "BCN     1.840668e+11\n",
       "BTT     9.899887e+11\n",
       "Name: TotalCoinsMined, Length: 685, dtype: float64"
      ]
     },
     "execution_count": 12,
     "metadata": {},
     "output_type": "execute_result"
    }
   ],
   "source": [
    "# Sort values in TotalCoinsMined to identify negative or zero values\n",
    "#df = df1['TotalCoinsMined'].sort_values()\n",
    "#df\n",
    "df1.TotalCoinsMined.sort_values()"
   ]
  },
  {
   "cell_type": "code",
   "execution_count": 13,
   "metadata": {},
   "outputs": [
    {
     "data": {
      "text/plain": [
       "532"
      ]
     },
     "execution_count": 13,
     "metadata": {},
     "output_type": "execute_result"
    }
   ],
   "source": [
    "# Select only rows with positive TotalCoinsMined values\n",
    "df1= df1[df1['TotalCoinsMined']>0]\n",
    "len(df1)"
   ]
  },
  {
   "cell_type": "code",
   "execution_count": 14,
   "metadata": {},
   "outputs": [
    {
     "data": {
      "text/html": [
       "<div>\n",
       "<style scoped>\n",
       "    .dataframe tbody tr th:only-of-type {\n",
       "        vertical-align: middle;\n",
       "    }\n",
       "\n",
       "    .dataframe tbody tr th {\n",
       "        vertical-align: top;\n",
       "    }\n",
       "\n",
       "    .dataframe thead th {\n",
       "        text-align: right;\n",
       "    }\n",
       "</style>\n",
       "<table border=\"1\" class=\"dataframe\">\n",
       "  <thead>\n",
       "    <tr style=\"text-align: right;\">\n",
       "      <th></th>\n",
       "      <th>Algorithm</th>\n",
       "      <th>ProofType</th>\n",
       "      <th>TotalCoinsMined</th>\n",
       "      <th>TotalCoinSupply</th>\n",
       "    </tr>\n",
       "  </thead>\n",
       "  <tbody>\n",
       "    <tr>\n",
       "      <th>42</th>\n",
       "      <td>Scrypt</td>\n",
       "      <td>PoW/PoS</td>\n",
       "      <td>4.199995e+01</td>\n",
       "      <td>42</td>\n",
       "    </tr>\n",
       "    <tr>\n",
       "      <th>404</th>\n",
       "      <td>Scrypt</td>\n",
       "      <td>PoW/PoS</td>\n",
       "      <td>1.055185e+09</td>\n",
       "      <td>532000000</td>\n",
       "    </tr>\n",
       "    <tr>\n",
       "      <th>1337</th>\n",
       "      <td>X13</td>\n",
       "      <td>PoW/PoS</td>\n",
       "      <td>2.927942e+10</td>\n",
       "      <td>314159265359</td>\n",
       "    </tr>\n",
       "    <tr>\n",
       "      <th>BTC</th>\n",
       "      <td>SHA-256</td>\n",
       "      <td>PoW</td>\n",
       "      <td>1.792718e+07</td>\n",
       "      <td>21000000</td>\n",
       "    </tr>\n",
       "    <tr>\n",
       "      <th>ETH</th>\n",
       "      <td>Ethash</td>\n",
       "      <td>PoW</td>\n",
       "      <td>1.076842e+08</td>\n",
       "      <td>0</td>\n",
       "    </tr>\n",
       "    <tr>\n",
       "      <th>...</th>\n",
       "      <td>...</td>\n",
       "      <td>...</td>\n",
       "      <td>...</td>\n",
       "      <td>...</td>\n",
       "    </tr>\n",
       "    <tr>\n",
       "      <th>ZEPH</th>\n",
       "      <td>SHA-256</td>\n",
       "      <td>DPoS</td>\n",
       "      <td>2.000000e+09</td>\n",
       "      <td>2000000000</td>\n",
       "    </tr>\n",
       "    <tr>\n",
       "      <th>GAP</th>\n",
       "      <td>Scrypt</td>\n",
       "      <td>PoW/PoS</td>\n",
       "      <td>1.493105e+07</td>\n",
       "      <td>250000000</td>\n",
       "    </tr>\n",
       "    <tr>\n",
       "      <th>BDX</th>\n",
       "      <td>CryptoNight</td>\n",
       "      <td>PoW</td>\n",
       "      <td>9.802226e+08</td>\n",
       "      <td>1400222610</td>\n",
       "    </tr>\n",
       "    <tr>\n",
       "      <th>ZEN</th>\n",
       "      <td>Equihash</td>\n",
       "      <td>PoW</td>\n",
       "      <td>7.296538e+06</td>\n",
       "      <td>21000000</td>\n",
       "    </tr>\n",
       "    <tr>\n",
       "      <th>XBC</th>\n",
       "      <td>Scrypt</td>\n",
       "      <td>PoS</td>\n",
       "      <td>1.283270e+05</td>\n",
       "      <td>1000000</td>\n",
       "    </tr>\n",
       "  </tbody>\n",
       "</table>\n",
       "<p>532 rows × 4 columns</p>\n",
       "</div>"
      ],
      "text/plain": [
       "        Algorithm ProofType  TotalCoinsMined TotalCoinSupply\n",
       "42         Scrypt   PoW/PoS     4.199995e+01              42\n",
       "404        Scrypt   PoW/PoS     1.055185e+09       532000000\n",
       "1337          X13   PoW/PoS     2.927942e+10    314159265359\n",
       "BTC       SHA-256       PoW     1.792718e+07        21000000\n",
       "ETH        Ethash       PoW     1.076842e+08               0\n",
       "...           ...       ...              ...             ...\n",
       "ZEPH      SHA-256      DPoS     2.000000e+09      2000000000\n",
       "GAP        Scrypt   PoW/PoS     1.493105e+07       250000000\n",
       "BDX   CryptoNight       PoW     9.802226e+08      1400222610\n",
       "ZEN      Equihash       PoW     7.296538e+06        21000000\n",
       "XBC        Scrypt       PoS     1.283270e+05         1000000\n",
       "\n",
       "[532 rows x 4 columns]"
      ]
     },
     "execution_count": 14,
     "metadata": {},
     "output_type": "execute_result"
    }
   ],
   "source": [
    "# Delete the CoinName column from the original dataframe\n",
    "df1 = df1.drop('CoinName',axis=1)\n",
    "df1"
   ]
  },
  {
   "cell_type": "code",
   "execution_count": 15,
   "metadata": {},
   "outputs": [
    {
     "name": "stdout",
     "output_type": "stream",
     "text": [
      "(532, 98)\n"
     ]
    }
   ],
   "source": [
    "# Create dummy variables for columns with string values\n",
    "# pd.get_dummies(data, prefix, dummy_na, columns, drop_first)\n",
    "x_crypto = pd.get_dummies(df1, columns=['Algorithm', 'ProofType'])\n",
    "#x_crypto = pd.get_dummies(data=crypto_df, columns=['Algorithm', 'ProofType'])\n",
    "\n",
    "# Print encoding variable\n",
    "print(x_crypto.shape)"
   ]
  },
  {
   "cell_type": "code",
   "execution_count": 16,
   "metadata": {},
   "outputs": [
    {
     "data": {
      "text/html": [
       "<div>\n",
       "<style scoped>\n",
       "    .dataframe tbody tr th:only-of-type {\n",
       "        vertical-align: middle;\n",
       "    }\n",
       "\n",
       "    .dataframe tbody tr th {\n",
       "        vertical-align: top;\n",
       "    }\n",
       "\n",
       "    .dataframe thead th {\n",
       "        text-align: right;\n",
       "    }\n",
       "</style>\n",
       "<table border=\"1\" class=\"dataframe\">\n",
       "  <thead>\n",
       "    <tr style=\"text-align: right;\">\n",
       "      <th></th>\n",
       "      <th>TotalCoinsMined</th>\n",
       "      <th>TotalCoinSupply</th>\n",
       "      <th>Algorithm_1GB AES Pattern Search</th>\n",
       "      <th>Algorithm_536</th>\n",
       "      <th>Algorithm_Argon2d</th>\n",
       "      <th>Algorithm_BLAKE256</th>\n",
       "      <th>Algorithm_Blake</th>\n",
       "      <th>Algorithm_Blake2S</th>\n",
       "      <th>Algorithm_Blake2b</th>\n",
       "      <th>Algorithm_C11</th>\n",
       "      <th>...</th>\n",
       "      <th>ProofType_PoW/PoS</th>\n",
       "      <th>ProofType_PoW/PoS</th>\n",
       "      <th>ProofType_PoW/PoW</th>\n",
       "      <th>ProofType_PoW/nPoS</th>\n",
       "      <th>ProofType_Pos</th>\n",
       "      <th>ProofType_Proof of Authority</th>\n",
       "      <th>ProofType_Proof of Trust</th>\n",
       "      <th>ProofType_TPoS</th>\n",
       "      <th>ProofType_Zero-Knowledge Proof</th>\n",
       "      <th>ProofType_dPoW/PoW</th>\n",
       "    </tr>\n",
       "  </thead>\n",
       "  <tbody>\n",
       "    <tr>\n",
       "      <th>42</th>\n",
       "      <td>4.199995e+01</td>\n",
       "      <td>42</td>\n",
       "      <td>0</td>\n",
       "      <td>0</td>\n",
       "      <td>0</td>\n",
       "      <td>0</td>\n",
       "      <td>0</td>\n",
       "      <td>0</td>\n",
       "      <td>0</td>\n",
       "      <td>0</td>\n",
       "      <td>...</td>\n",
       "      <td>1</td>\n",
       "      <td>0</td>\n",
       "      <td>0</td>\n",
       "      <td>0</td>\n",
       "      <td>0</td>\n",
       "      <td>0</td>\n",
       "      <td>0</td>\n",
       "      <td>0</td>\n",
       "      <td>0</td>\n",
       "      <td>0</td>\n",
       "    </tr>\n",
       "    <tr>\n",
       "      <th>404</th>\n",
       "      <td>1.055185e+09</td>\n",
       "      <td>532000000</td>\n",
       "      <td>0</td>\n",
       "      <td>0</td>\n",
       "      <td>0</td>\n",
       "      <td>0</td>\n",
       "      <td>0</td>\n",
       "      <td>0</td>\n",
       "      <td>0</td>\n",
       "      <td>0</td>\n",
       "      <td>...</td>\n",
       "      <td>1</td>\n",
       "      <td>0</td>\n",
       "      <td>0</td>\n",
       "      <td>0</td>\n",
       "      <td>0</td>\n",
       "      <td>0</td>\n",
       "      <td>0</td>\n",
       "      <td>0</td>\n",
       "      <td>0</td>\n",
       "      <td>0</td>\n",
       "    </tr>\n",
       "    <tr>\n",
       "      <th>1337</th>\n",
       "      <td>2.927942e+10</td>\n",
       "      <td>314159265359</td>\n",
       "      <td>0</td>\n",
       "      <td>0</td>\n",
       "      <td>0</td>\n",
       "      <td>0</td>\n",
       "      <td>0</td>\n",
       "      <td>0</td>\n",
       "      <td>0</td>\n",
       "      <td>0</td>\n",
       "      <td>...</td>\n",
       "      <td>1</td>\n",
       "      <td>0</td>\n",
       "      <td>0</td>\n",
       "      <td>0</td>\n",
       "      <td>0</td>\n",
       "      <td>0</td>\n",
       "      <td>0</td>\n",
       "      <td>0</td>\n",
       "      <td>0</td>\n",
       "      <td>0</td>\n",
       "    </tr>\n",
       "    <tr>\n",
       "      <th>BTC</th>\n",
       "      <td>1.792718e+07</td>\n",
       "      <td>21000000</td>\n",
       "      <td>0</td>\n",
       "      <td>0</td>\n",
       "      <td>0</td>\n",
       "      <td>0</td>\n",
       "      <td>0</td>\n",
       "      <td>0</td>\n",
       "      <td>0</td>\n",
       "      <td>0</td>\n",
       "      <td>...</td>\n",
       "      <td>0</td>\n",
       "      <td>0</td>\n",
       "      <td>0</td>\n",
       "      <td>0</td>\n",
       "      <td>0</td>\n",
       "      <td>0</td>\n",
       "      <td>0</td>\n",
       "      <td>0</td>\n",
       "      <td>0</td>\n",
       "      <td>0</td>\n",
       "    </tr>\n",
       "    <tr>\n",
       "      <th>ETH</th>\n",
       "      <td>1.076842e+08</td>\n",
       "      <td>0</td>\n",
       "      <td>0</td>\n",
       "      <td>0</td>\n",
       "      <td>0</td>\n",
       "      <td>0</td>\n",
       "      <td>0</td>\n",
       "      <td>0</td>\n",
       "      <td>0</td>\n",
       "      <td>0</td>\n",
       "      <td>...</td>\n",
       "      <td>0</td>\n",
       "      <td>0</td>\n",
       "      <td>0</td>\n",
       "      <td>0</td>\n",
       "      <td>0</td>\n",
       "      <td>0</td>\n",
       "      <td>0</td>\n",
       "      <td>0</td>\n",
       "      <td>0</td>\n",
       "      <td>0</td>\n",
       "    </tr>\n",
       "  </tbody>\n",
       "</table>\n",
       "<p>5 rows × 98 columns</p>\n",
       "</div>"
      ],
      "text/plain": [
       "      TotalCoinsMined TotalCoinSupply  Algorithm_1GB AES Pattern Search  \\\n",
       "42       4.199995e+01              42                                 0   \n",
       "404      1.055185e+09       532000000                                 0   \n",
       "1337     2.927942e+10    314159265359                                 0   \n",
       "BTC      1.792718e+07        21000000                                 0   \n",
       "ETH      1.076842e+08               0                                 0   \n",
       "\n",
       "      Algorithm_536  Algorithm_Argon2d  Algorithm_BLAKE256  Algorithm_Blake  \\\n",
       "42                0                  0                   0                0   \n",
       "404               0                  0                   0                0   \n",
       "1337              0                  0                   0                0   \n",
       "BTC               0                  0                   0                0   \n",
       "ETH               0                  0                   0                0   \n",
       "\n",
       "      Algorithm_Blake2S  Algorithm_Blake2b  Algorithm_C11  ...  \\\n",
       "42                    0                  0              0  ...   \n",
       "404                   0                  0              0  ...   \n",
       "1337                  0                  0              0  ...   \n",
       "BTC                   0                  0              0  ...   \n",
       "ETH                   0                  0              0  ...   \n",
       "\n",
       "      ProofType_PoW/PoS  ProofType_PoW/PoS   ProofType_PoW/PoW  \\\n",
       "42                    1                   0                  0   \n",
       "404                   1                   0                  0   \n",
       "1337                  1                   0                  0   \n",
       "BTC                   0                   0                  0   \n",
       "ETH                   0                   0                  0   \n",
       "\n",
       "      ProofType_PoW/nPoS  ProofType_Pos  ProofType_Proof of Authority  \\\n",
       "42                     0              0                             0   \n",
       "404                    0              0                             0   \n",
       "1337                   0              0                             0   \n",
       "BTC                    0              0                             0   \n",
       "ETH                    0              0                             0   \n",
       "\n",
       "      ProofType_Proof of Trust  ProofType_TPoS  \\\n",
       "42                           0               0   \n",
       "404                          0               0   \n",
       "1337                         0               0   \n",
       "BTC                          0               0   \n",
       "ETH                          0               0   \n",
       "\n",
       "      ProofType_Zero-Knowledge Proof  ProofType_dPoW/PoW  \n",
       "42                                 0                   0  \n",
       "404                                0                   0  \n",
       "1337                               0                   0  \n",
       "BTC                                0                   0  \n",
       "ETH                                0                   0  \n",
       "\n",
       "[5 rows x 98 columns]"
      ]
     },
     "execution_count": 16,
     "metadata": {},
     "output_type": "execute_result"
    }
   ],
   "source": [
    "# Display the dataframe\n",
    "x_crypto.head()"
   ]
  },
  {
   "cell_type": "code",
   "execution_count": 17,
   "metadata": {},
   "outputs": [],
   "source": [
    "# Standardize the data\n",
    "x_scaler = StandardScaler()\n",
    "crypto_scaler = x_scaler.fit_transform(x_crypto)"
   ]
  },
  {
   "cell_type": "code",
   "execution_count": 18,
   "metadata": {},
   "outputs": [
    {
     "data": {
      "text/plain": [
       "array([-0.11710817, -0.1528703 , -0.0433963 , -0.0433963 , -0.0433963 ,\n",
       "       -0.06142951, -0.07530656, -0.0433963 , -0.06142951, -0.06142951,\n",
       "       -0.0433963 , -0.0433963 , -0.19245009, -0.06142951, -0.09740465,\n",
       "       -0.0433963 , -0.11547005, -0.07530656, -0.0433963 , -0.0433963 ,\n",
       "       -0.15191091, -0.0433963 , -0.13118084, -0.0433963 , -0.0433963 ,\n",
       "       -0.08703883, -0.0433963 , -0.0433963 , -0.0433963 , -0.0433963 ,\n",
       "       -0.06142951, -0.0433963 , -0.08703883, -0.08703883, -0.08703883,\n",
       "       -0.0433963 , -0.13118084, -0.13840913, -0.13840913, -0.0433963 ,\n",
       "       -0.06142951, -0.0433963 , -0.07530656, -0.18168574, -0.0433963 ,\n",
       "       -0.0433963 , -0.0433963 , -0.07530656, -0.15826614, -0.31491833,\n",
       "       -0.0433963 , -0.08703883, -0.07530656, -0.06142951,  1.38675049,\n",
       "       -0.0433963 , -0.0433963 , -0.06142951, -0.0433963 , -0.0433963 ,\n",
       "       -0.0433963 , -0.0433963 , -0.0433963 , -0.0433963 , -0.0433963 ,\n",
       "       -0.0433963 , -0.39879994, -0.0433963 , -0.18168574, -0.0433963 ,\n",
       "       -0.08703883, -0.08703883, -0.10680283, -0.0433963 , -0.13118084,\n",
       "       -0.0433963 , -0.0433963 , -0.0433963 , -0.0433963 , -0.07530656,\n",
       "       -0.43911856, -0.0433963 , -0.06142951, -0.0433963 , -0.0433963 ,\n",
       "       -0.89632016, -0.0433963 , -0.0433963 ,  1.42222617, -0.0433963 ,\n",
       "       -0.0433963 , -0.0433963 , -0.0433963 , -0.0433963 , -0.0433963 ,\n",
       "       -0.0433963 , -0.0433963 , -0.0433963 ])"
      ]
     },
     "execution_count": 18,
     "metadata": {},
     "output_type": "execute_result"
    }
   ],
   "source": [
    "# print the scaled data\n",
    "crypto_scaler[0]"
   ]
  },
  {
   "cell_type": "code",
   "execution_count": 19,
   "metadata": {},
   "outputs": [
    {
     "data": {
      "text/plain": [
       "(532, 98)"
      ]
     },
     "execution_count": 19,
     "metadata": {},
     "output_type": "execute_result"
    }
   ],
   "source": [
    "# Identify the numbers of rows and columns in the scaled data\n",
    "crypto_scaler.shape"
   ]
  },
  {
   "cell_type": "markdown",
   "metadata": {},
   "source": [
    "### Reduce dataset dimensions with PCA"
   ]
  },
  {
   "cell_type": "code",
   "execution_count": 20,
   "metadata": {},
   "outputs": [],
   "source": [
    "# Reduce dimensions with PCA- decomposition\n",
    "pca1 = PCA(n_components = 0.9)"
   ]
  },
  {
   "cell_type": "code",
   "execution_count": 21,
   "metadata": {},
   "outputs": [
    {
     "data": {
      "text/plain": [
       "(532, 74)"
      ]
     },
     "execution_count": 21,
     "metadata": {},
     "output_type": "execute_result"
    }
   ],
   "source": [
    "crypto_pca = pca1.fit_transform(crypto_scaler)\n",
    "crypto_pca.shape"
   ]
  },
  {
   "cell_type": "code",
   "execution_count": 22,
   "metadata": {},
   "outputs": [
    {
     "data": {
      "text/plain": [
       "88.47283457566158"
      ]
     },
     "execution_count": 22,
     "metadata": {},
     "output_type": "execute_result"
    }
   ],
   "source": [
    "# The sum of the explained variance of the principal components\n",
    "pca1.explained_variance_.sum()"
   ]
  },
  {
   "cell_type": "code",
   "execution_count": 23,
   "metadata": {},
   "outputs": [
    {
     "data": {
      "text/plain": [
       "(532, 2)"
      ]
     },
     "execution_count": 23,
     "metadata": {},
     "output_type": "execute_result"
    }
   ],
   "source": [
    "# Reduce dimensions with t-SNE\n",
    "crypto_tsne = TSNE(perplexity = 60)\n",
    "tsne_features = crypto_tsne.fit_transform(crypto_pca)\n",
    "tsne_features.shape"
   ]
  },
  {
   "cell_type": "code",
   "execution_count": 24,
   "metadata": {
    "scrolled": true
   },
   "outputs": [
    {
     "data": {
      "text/plain": [
       "<function matplotlib.pyplot.show(close=None, block=None)>"
      ]
     },
     "execution_count": 24,
     "metadata": {},
     "output_type": "execute_result"
    },
    {
     "data": {
      "image/png": "[encoded data removed]",
      "text/plain": [
       "<Figure size 432x288 with 1 Axes>"
      ]
     },
     "metadata": {
      "needs_background": "light"
     },
     "output_type": "display_data"
    }
   ],
   "source": [
    "# Plot t-SNE output (x -60 10, y -20 50)\n",
    "x_axis = tsne_features[:,0]\n",
    "y_axis = tsne_features[:,1]\n",
    "plt.scatter(x_axis, y_axis)\n",
    "plt.show"
   ]
  },
  {
   "cell_type": "code",
   "execution_count": 25,
   "metadata": {},
   "outputs": [
    {
     "name": "stderr",
     "output_type": "stream",
     "text": [
      "C:\\ProgramData\\Anaconda3\\lib\\site-packages\\sklearn\\cluster\\_kmeans.py:881: UserWarning: KMeans is known to have a memory leak on Windows with MKL, when there are less chunks than available threads. You can avoid it by setting the environment variable OMP_NUM_THREADS=3.\n",
      "  warnings.warn(\n"
     ]
    }
   ],
   "source": [
    "# Identify clusters with k-means\n",
    "inertia = []\n",
    "k = [1,2,3,4,5,6,7,8,9,10] \n",
    "# list(range(1,11))\n",
    "\n",
    "# get the inertia for the range of k values\n",
    "for i in k:\n",
    "    km = KMeans(n_clusters= i , random_state=0)\n",
    "    km.fit(crypto_pca)\n",
    "    inertia.append(km.inertia_)"
   ]
  },
  {
   "cell_type": "code",
   "execution_count": 26,
   "metadata": {},
   "outputs": [],
   "source": [
    "# create elbow df\n",
    "elbow_data = {\"k\": k, \"inertia\": inertia}\n",
    "df2 = pd.DataFrame(elbow_data)"
   ]
  },
  {
   "cell_type": "code",
   "execution_count": 27,
   "metadata": {},
   "outputs": [
    {
     "data": {
      "image/png": "[encoded data removed]",
      "text/plain": [
       "<Figure size 432x288 with 1 Axes>"
      ]
     },
     "metadata": {
      "needs_background": "light"
     },
     "output_type": "display_data"
    }
   ],
   "source": [
    "# Create an elbow plot x 2,4,6,8,10, y 39000 47000\n",
    "plt.plot(df2['k'], df2['inertia'])\n",
    "plt.xticks(range(1,11))\n",
    "#,[2,4,6,8,10]\n",
    "plt.xlabel('k/ number of clusters')\n",
    "plt.ylabel('Inertia')\n",
    "plt.title('Elbow Plot')\n",
    "plt.legend('inertia')\n",
    "plt.show()"
   ]
  },
  {
   "cell_type": "code",
   "execution_count": null,
   "metadata": {},
   "outputs": [],
   "source": []
  },
  {
   "cell_type": "code",
   "execution_count": null,
   "metadata": {},
   "outputs": [],
   "source": []
  }
 ],
 "metadata": {
  "kernelspec": {
   "display_name": "Python 3",
   "language": "python",
   "name": "python3"
  },
  "language_info": {
   "codemirror_mode": {
    "name": "ipython",
    "version": 3
   },
   "file_extension": ".py",
   "mimetype": "text/x-python",
   "name": "python",
   "nbconvert_exporter": "python",
   "pygments_lexer": "ipython3",
   "version": "3.8.8"
  }
 },
 "nbformat": 4,
 "nbformat_minor": 4
}
